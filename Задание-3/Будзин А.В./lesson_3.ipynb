{
 "cells": [
  {
   "cell_type": "markdown",
   "metadata": {},
   "source": [
    "1. Построить модель градиентного бустинга для классификации числа страховых случаев (см. в конце ноутбука).\n",
    "  - Можно предобработать исходные данные, добавив дополнительные фичи. \n",
    "  - Также можно использовать различные методы для подбора гиперпараметров.\n",
    "2. Оценить результаты построенного классификатора, выявить возможные проблемы.\n",
    "3. Сравнить результаты с полученным на занятии результатом с использованием Пуассоновской регрессии.\n",
    "4. Проанализировать результаты, предложить способы решения обнаруженных проблем и/или попробовать его улучшить."
   ]
  },
  {
   "cell_type": "code",
   "execution_count": 1,
   "metadata": {},
   "outputs": [],
   "source": [
    "#!pip install hyperopt\n",
    "import pandas as pd\n",
    "import numpy as np\n",
    "import xgboost as xgb\n",
    "import matplotlib.pyplot as plt\n",
    "from sklearn.model_selection import train_test_split\n",
    "from sklearn.metrics import f1_score, accuracy_score, confusion_matrix\n",
    "from hyperopt import hp, tpe, space_eval\n",
    "from hyperopt.fmin import fmin\n",
    "from sklearn.metrics import classification_report\n",
    "\n",
    "def SeriesFactorizer(series):\n",
    "    series, unique = pd.factorize(series)\n",
    "    reference = {x: i for x, i in enumerate(unique)}\n",
    "    print(reference)\n",
    "    return series, reference"
   ]
  },
  {
   "cell_type": "code",
   "execution_count": 2,
   "metadata": {},
   "outputs": [],
   "source": [
    "df = pd.read_csv('~/Yandex.Disk/geekbrains/Python/MLInBusines/lesson_6/freMPL-R.csv', low_memory=False)"
   ]
  },
  {
   "cell_type": "code",
   "execution_count": 3,
   "metadata": {},
   "outputs": [
    {
     "name": "stdout",
     "output_type": "stream",
     "text": [
      "<class 'pandas.core.frame.DataFrame'>\n",
      "RangeIndex: 115155 entries, 0 to 115154\n",
      "Data columns (total 20 columns):\n",
      " #   Column             Non-Null Count   Dtype  \n",
      "---  ------             --------------   -----  \n",
      " 0   Exposure           115155 non-null  float64\n",
      " 1   LicAge             115155 non-null  int64  \n",
      " 2   RecordBeg          115155 non-null  object \n",
      " 3   RecordEnd          59455 non-null   object \n",
      " 4   Gender             115155 non-null  object \n",
      " 5   MariStat           115155 non-null  object \n",
      " 6   SocioCateg         115155 non-null  object \n",
      " 7   VehUsage           115155 non-null  object \n",
      " 8   DrivAge            115155 non-null  int64  \n",
      " 9   HasKmLimit         115155 non-null  int64  \n",
      " 10  BonusMalus         115155 non-null  int64  \n",
      " 11  ClaimAmount        115155 non-null  float64\n",
      " 12  ClaimInd           115155 non-null  int64  \n",
      " 13  ClaimNbResp        115155 non-null  float64\n",
      " 14  ClaimNbNonResp     115155 non-null  float64\n",
      " 15  ClaimNbParking     115155 non-null  float64\n",
      " 16  ClaimNbFireTheft   115155 non-null  float64\n",
      " 17  ClaimNbWindscreen  115155 non-null  float64\n",
      " 18  OutUseNb           115155 non-null  float64\n",
      " 19  RiskArea           115155 non-null  float64\n",
      "dtypes: float64(9), int64(5), object(6)\n",
      "memory usage: 17.6+ MB\n"
     ]
    }
   ],
   "source": [
    "df = df.loc[df.Dataset.isin([5, 6, 7, 8, 9])]\n",
    "df.drop('Dataset', axis=1, inplace=True)\n",
    "df.dropna(axis=1, how='all', inplace=True)\n",
    "df.drop_duplicates(inplace=True)\n",
    "df.reset_index(drop=True, inplace=True)\n",
    "df.info()"
   ]
  },
  {
   "cell_type": "markdown",
   "metadata": {},
   "source": [
    "Предобрабтка данных"
   ]
  },
  {
   "cell_type": "code",
   "execution_count": 4,
   "metadata": {},
   "outputs": [
    {
     "name": "stdout",
     "output_type": "stream",
     "text": [
      "Unique values of ClaimInd: [0]\n"
     ]
    },
    {
     "data": {
      "text/html": [
       "<div>\n",
       "<style scoped>\n",
       "    .dataframe tbody tr th:only-of-type {\n",
       "        vertical-align: middle;\n",
       "    }\n",
       "\n",
       "    .dataframe tbody tr th {\n",
       "        vertical-align: top;\n",
       "    }\n",
       "\n",
       "    .dataframe thead th {\n",
       "        text-align: right;\n",
       "    }\n",
       "</style>\n",
       "<table border=\"1\" class=\"dataframe\">\n",
       "  <thead>\n",
       "    <tr style=\"text-align: right;\">\n",
       "      <th></th>\n",
       "      <th>ClaimAmount</th>\n",
       "      <th>ClaimInd</th>\n",
       "    </tr>\n",
       "  </thead>\n",
       "  <tbody>\n",
       "    <tr>\n",
       "      <th>82</th>\n",
       "      <td>-74.206042</td>\n",
       "      <td>0</td>\n",
       "    </tr>\n",
       "    <tr>\n",
       "      <th>175</th>\n",
       "      <td>-1222.585196</td>\n",
       "      <td>0</td>\n",
       "    </tr>\n",
       "    <tr>\n",
       "      <th>177</th>\n",
       "      <td>-316.288822</td>\n",
       "      <td>0</td>\n",
       "    </tr>\n",
       "    <tr>\n",
       "      <th>363</th>\n",
       "      <td>-666.758610</td>\n",
       "      <td>0</td>\n",
       "    </tr>\n",
       "    <tr>\n",
       "      <th>375</th>\n",
       "      <td>-1201.600604</td>\n",
       "      <td>0</td>\n",
       "    </tr>\n",
       "  </tbody>\n",
       "</table>\n",
       "</div>"
      ],
      "text/plain": [
       "     ClaimAmount  ClaimInd\n",
       "82    -74.206042         0\n",
       "175 -1222.585196         0\n",
       "177  -316.288822         0\n",
       "363  -666.758610         0\n",
       "375 -1201.600604         0"
      ]
     },
     "execution_count": 4,
     "metadata": {},
     "output_type": "execute_result"
    }
   ],
   "source": [
    "NegClaimAmount = df.loc[df.ClaimAmount < 0, ['ClaimAmount','ClaimInd']]\n",
    "print('Unique values of ClaimInd:', NegClaimAmount.ClaimInd.unique())\n",
    "NegClaimAmount.head()"
   ]
  },
  {
   "cell_type": "code",
   "execution_count": 5,
   "metadata": {},
   "outputs": [],
   "source": [
    "df.loc[df.ClaimAmount < 0, 'ClaimAmount'] = 0"
   ]
  },
  {
   "cell_type": "code",
   "execution_count": 6,
   "metadata": {},
   "outputs": [],
   "source": [
    "def SeriesFactorizer(series):\n",
    "    series, unique = pd.factorize(series)\n",
    "    reference = {x: i for x, i in enumerate(unique)}\n",
    "    print(reference)\n",
    "    return series, reference"
   ]
  },
  {
   "cell_type": "code",
   "execution_count": 7,
   "metadata": {},
   "outputs": [
    {
     "name": "stdout",
     "output_type": "stream",
     "text": [
      "{0: 'Male', 1: 'Female'}\n",
      "{0: 'Other', 1: 'Alone'}\n"
     ]
    }
   ],
   "source": [
    "df.Gender, GenderRef = SeriesFactorizer(df.Gender)\n",
    "df.MariStat, MariStatRef = SeriesFactorizer(df.MariStat)"
   ]
  },
  {
   "cell_type": "code",
   "execution_count": 8,
   "metadata": {},
   "outputs": [
    {
     "data": {
      "text/plain": [
       "['Professional', 'Private+trip to office', 'Private', 'Professional run']"
      ]
     },
     "execution_count": 8,
     "metadata": {},
     "output_type": "execute_result"
    }
   ],
   "source": [
    "list(df.VehUsage.unique())"
   ]
  },
  {
   "cell_type": "code",
   "execution_count": 9,
   "metadata": {},
   "outputs": [
    {
     "data": {
      "text/html": [
       "<div>\n",
       "<style scoped>\n",
       "    .dataframe tbody tr th:only-of-type {\n",
       "        vertical-align: middle;\n",
       "    }\n",
       "\n",
       "    .dataframe tbody tr th {\n",
       "        vertical-align: top;\n",
       "    }\n",
       "\n",
       "    .dataframe thead th {\n",
       "        text-align: right;\n",
       "    }\n",
       "</style>\n",
       "<table border=\"1\" class=\"dataframe\">\n",
       "  <thead>\n",
       "    <tr style=\"text-align: right;\">\n",
       "      <th></th>\n",
       "      <th>VehUsg_Private</th>\n",
       "      <th>VehUsg_Private+trip to office</th>\n",
       "      <th>VehUsg_Professional</th>\n",
       "      <th>VehUsg_Professional run</th>\n",
       "    </tr>\n",
       "  </thead>\n",
       "  <tbody>\n",
       "    <tr>\n",
       "      <th>0</th>\n",
       "      <td>0</td>\n",
       "      <td>0</td>\n",
       "      <td>1</td>\n",
       "      <td>0</td>\n",
       "    </tr>\n",
       "    <tr>\n",
       "      <th>1</th>\n",
       "      <td>0</td>\n",
       "      <td>0</td>\n",
       "      <td>1</td>\n",
       "      <td>0</td>\n",
       "    </tr>\n",
       "    <tr>\n",
       "      <th>2</th>\n",
       "      <td>0</td>\n",
       "      <td>1</td>\n",
       "      <td>0</td>\n",
       "      <td>0</td>\n",
       "    </tr>\n",
       "    <tr>\n",
       "      <th>3</th>\n",
       "      <td>0</td>\n",
       "      <td>1</td>\n",
       "      <td>0</td>\n",
       "      <td>0</td>\n",
       "    </tr>\n",
       "    <tr>\n",
       "      <th>4</th>\n",
       "      <td>1</td>\n",
       "      <td>0</td>\n",
       "      <td>0</td>\n",
       "      <td>0</td>\n",
       "    </tr>\n",
       "  </tbody>\n",
       "</table>\n",
       "</div>"
      ],
      "text/plain": [
       "   VehUsg_Private  VehUsg_Private+trip to office  VehUsg_Professional  \\\n",
       "0               0                              0                    1   \n",
       "1               0                              0                    1   \n",
       "2               0                              1                    0   \n",
       "3               0                              1                    0   \n",
       "4               1                              0                    0   \n",
       "\n",
       "   VehUsg_Professional run  \n",
       "0                        0  \n",
       "1                        0  \n",
       "2                        0  \n",
       "3                        0  \n",
       "4                        0  "
      ]
     },
     "execution_count": 9,
     "metadata": {},
     "output_type": "execute_result"
    }
   ],
   "source": [
    "VU_dummies = pd.get_dummies(df.VehUsage, prefix='VehUsg', drop_first=False)\n",
    "VU_dummies.head()"
   ]
  },
  {
   "cell_type": "code",
   "execution_count": 10,
   "metadata": {},
   "outputs": [],
   "source": [
    "df['SocioCateg'] = df.SocioCateg.str.slice(0,4)"
   ]
  },
  {
   "cell_type": "code",
   "execution_count": 11,
   "metadata": {},
   "outputs": [
    {
     "data": {
      "text/html": [
       "<div>\n",
       "<style scoped>\n",
       "    .dataframe tbody tr th:only-of-type {\n",
       "        vertical-align: middle;\n",
       "    }\n",
       "\n",
       "    .dataframe tbody tr th {\n",
       "        vertical-align: top;\n",
       "    }\n",
       "\n",
       "    .dataframe thead th {\n",
       "        text-align: right;\n",
       "    }\n",
       "</style>\n",
       "<table border=\"1\" class=\"dataframe\">\n",
       "  <thead>\n",
       "    <tr style=\"text-align: right;\">\n",
       "      <th></th>\n",
       "      <th>Frequency</th>\n",
       "    </tr>\n",
       "  </thead>\n",
       "  <tbody>\n",
       "    <tr>\n",
       "      <th>CSP7</th>\n",
       "      <td>14</td>\n",
       "    </tr>\n",
       "    <tr>\n",
       "      <th>CSP3</th>\n",
       "      <td>1210</td>\n",
       "    </tr>\n",
       "    <tr>\n",
       "      <th>CSP1</th>\n",
       "      <td>2740</td>\n",
       "    </tr>\n",
       "    <tr>\n",
       "      <th>CSP2</th>\n",
       "      <td>3254</td>\n",
       "    </tr>\n",
       "    <tr>\n",
       "      <th>CSP4</th>\n",
       "      <td>7648</td>\n",
       "    </tr>\n",
       "    <tr>\n",
       "      <th>CSP6</th>\n",
       "      <td>24833</td>\n",
       "    </tr>\n",
       "    <tr>\n",
       "      <th>CSP5</th>\n",
       "      <td>75456</td>\n",
       "    </tr>\n",
       "  </tbody>\n",
       "</table>\n",
       "</div>"
      ],
      "text/plain": [
       "      Frequency\n",
       "CSP7         14\n",
       "CSP3       1210\n",
       "CSP1       2740\n",
       "CSP2       3254\n",
       "CSP4       7648\n",
       "CSP6      24833\n",
       "CSP5      75456"
      ]
     },
     "execution_count": 11,
     "metadata": {},
     "output_type": "execute_result"
    }
   ],
   "source": [
    "pd.DataFrame(df.SocioCateg.value_counts().sort_values()).rename({'SocioCateg': 'Frequency'}, axis=1)"
   ]
  },
  {
   "cell_type": "code",
   "execution_count": 12,
   "metadata": {},
   "outputs": [],
   "source": [
    "df = pd.get_dummies(df, columns=['VehUsage','SocioCateg'])"
   ]
  },
  {
   "cell_type": "code",
   "execution_count": 13,
   "metadata": {},
   "outputs": [],
   "source": [
    "df = df.select_dtypes(exclude=['object'])"
   ]
  },
  {
   "cell_type": "code",
   "execution_count": 14,
   "metadata": {},
   "outputs": [
    {
     "data": {
      "text/html": [
       "<div>\n",
       "<style scoped>\n",
       "    .dataframe tbody tr th:only-of-type {\n",
       "        vertical-align: middle;\n",
       "    }\n",
       "\n",
       "    .dataframe tbody tr th {\n",
       "        vertical-align: top;\n",
       "    }\n",
       "\n",
       "    .dataframe thead th {\n",
       "        text-align: right;\n",
       "    }\n",
       "</style>\n",
       "<table border=\"1\" class=\"dataframe\">\n",
       "  <thead>\n",
       "    <tr style=\"text-align: right;\">\n",
       "      <th></th>\n",
       "      <th>Exposure</th>\n",
       "      <th>LicAge</th>\n",
       "      <th>Gender</th>\n",
       "      <th>MariStat</th>\n",
       "      <th>DrivAge</th>\n",
       "      <th>HasKmLimit</th>\n",
       "      <th>BonusMalus</th>\n",
       "      <th>ClaimAmount</th>\n",
       "      <th>ClaimInd</th>\n",
       "      <th>ClaimNbResp</th>\n",
       "      <th>...</th>\n",
       "      <th>VehUsage_Professional</th>\n",
       "      <th>VehUsage_Professional run</th>\n",
       "      <th>SocioCateg_CSP1</th>\n",
       "      <th>SocioCateg_CSP2</th>\n",
       "      <th>SocioCateg_CSP3</th>\n",
       "      <th>SocioCateg_CSP4</th>\n",
       "      <th>SocioCateg_CSP5</th>\n",
       "      <th>SocioCateg_CSP6</th>\n",
       "      <th>SocioCateg_CSP7</th>\n",
       "      <th>DrivAgeSq</th>\n",
       "    </tr>\n",
       "  </thead>\n",
       "  <tbody>\n",
       "    <tr>\n",
       "      <th>0</th>\n",
       "      <td>0.083</td>\n",
       "      <td>332</td>\n",
       "      <td>0</td>\n",
       "      <td>0</td>\n",
       "      <td>46</td>\n",
       "      <td>0</td>\n",
       "      <td>50</td>\n",
       "      <td>0.0</td>\n",
       "      <td>0</td>\n",
       "      <td>0.0</td>\n",
       "      <td>...</td>\n",
       "      <td>1</td>\n",
       "      <td>0</td>\n",
       "      <td>0</td>\n",
       "      <td>0</td>\n",
       "      <td>0</td>\n",
       "      <td>0</td>\n",
       "      <td>1</td>\n",
       "      <td>0</td>\n",
       "      <td>0</td>\n",
       "      <td>2116</td>\n",
       "    </tr>\n",
       "    <tr>\n",
       "      <th>1</th>\n",
       "      <td>0.916</td>\n",
       "      <td>333</td>\n",
       "      <td>0</td>\n",
       "      <td>0</td>\n",
       "      <td>46</td>\n",
       "      <td>0</td>\n",
       "      <td>50</td>\n",
       "      <td>0.0</td>\n",
       "      <td>0</td>\n",
       "      <td>0.0</td>\n",
       "      <td>...</td>\n",
       "      <td>1</td>\n",
       "      <td>0</td>\n",
       "      <td>0</td>\n",
       "      <td>0</td>\n",
       "      <td>0</td>\n",
       "      <td>0</td>\n",
       "      <td>1</td>\n",
       "      <td>0</td>\n",
       "      <td>0</td>\n",
       "      <td>2116</td>\n",
       "    </tr>\n",
       "    <tr>\n",
       "      <th>2</th>\n",
       "      <td>0.550</td>\n",
       "      <td>173</td>\n",
       "      <td>0</td>\n",
       "      <td>0</td>\n",
       "      <td>32</td>\n",
       "      <td>0</td>\n",
       "      <td>68</td>\n",
       "      <td>0.0</td>\n",
       "      <td>0</td>\n",
       "      <td>0.0</td>\n",
       "      <td>...</td>\n",
       "      <td>0</td>\n",
       "      <td>0</td>\n",
       "      <td>0</td>\n",
       "      <td>0</td>\n",
       "      <td>0</td>\n",
       "      <td>0</td>\n",
       "      <td>1</td>\n",
       "      <td>0</td>\n",
       "      <td>0</td>\n",
       "      <td>1024</td>\n",
       "    </tr>\n",
       "    <tr>\n",
       "      <th>3</th>\n",
       "      <td>0.089</td>\n",
       "      <td>364</td>\n",
       "      <td>1</td>\n",
       "      <td>0</td>\n",
       "      <td>52</td>\n",
       "      <td>0</td>\n",
       "      <td>50</td>\n",
       "      <td>0.0</td>\n",
       "      <td>0</td>\n",
       "      <td>0.0</td>\n",
       "      <td>...</td>\n",
       "      <td>0</td>\n",
       "      <td>0</td>\n",
       "      <td>0</td>\n",
       "      <td>0</td>\n",
       "      <td>0</td>\n",
       "      <td>0</td>\n",
       "      <td>1</td>\n",
       "      <td>0</td>\n",
       "      <td>0</td>\n",
       "      <td>2704</td>\n",
       "    </tr>\n",
       "    <tr>\n",
       "      <th>4</th>\n",
       "      <td>0.233</td>\n",
       "      <td>426</td>\n",
       "      <td>0</td>\n",
       "      <td>0</td>\n",
       "      <td>57</td>\n",
       "      <td>0</td>\n",
       "      <td>50</td>\n",
       "      <td>0.0</td>\n",
       "      <td>0</td>\n",
       "      <td>0.0</td>\n",
       "      <td>...</td>\n",
       "      <td>0</td>\n",
       "      <td>0</td>\n",
       "      <td>0</td>\n",
       "      <td>0</td>\n",
       "      <td>0</td>\n",
       "      <td>0</td>\n",
       "      <td>0</td>\n",
       "      <td>1</td>\n",
       "      <td>0</td>\n",
       "      <td>3249</td>\n",
       "    </tr>\n",
       "  </tbody>\n",
       "</table>\n",
       "<p>5 rows × 28 columns</p>\n",
       "</div>"
      ],
      "text/plain": [
       "   Exposure  LicAge  Gender  MariStat  DrivAge  HasKmLimit  BonusMalus  \\\n",
       "0     0.083     332       0         0       46           0          50   \n",
       "1     0.916     333       0         0       46           0          50   \n",
       "2     0.550     173       0         0       32           0          68   \n",
       "3     0.089     364       1         0       52           0          50   \n",
       "4     0.233     426       0         0       57           0          50   \n",
       "\n",
       "   ClaimAmount  ClaimInd  ClaimNbResp  ...  VehUsage_Professional  \\\n",
       "0          0.0         0          0.0  ...                      1   \n",
       "1          0.0         0          0.0  ...                      1   \n",
       "2          0.0         0          0.0  ...                      0   \n",
       "3          0.0         0          0.0  ...                      0   \n",
       "4          0.0         0          0.0  ...                      0   \n",
       "\n",
       "   VehUsage_Professional run  SocioCateg_CSP1  SocioCateg_CSP2  \\\n",
       "0                          0                0                0   \n",
       "1                          0                0                0   \n",
       "2                          0                0                0   \n",
       "3                          0                0                0   \n",
       "4                          0                0                0   \n",
       "\n",
       "   SocioCateg_CSP3  SocioCateg_CSP4  SocioCateg_CSP5  SocioCateg_CSP6  \\\n",
       "0                0                0                1                0   \n",
       "1                0                0                1                0   \n",
       "2                0                0                1                0   \n",
       "3                0                0                1                0   \n",
       "4                0                0                0                1   \n",
       "\n",
       "   SocioCateg_CSP7  DrivAgeSq  \n",
       "0                0       2116  \n",
       "1                0       2116  \n",
       "2                0       1024  \n",
       "3                0       2704  \n",
       "4                0       3249  \n",
       "\n",
       "[5 rows x 28 columns]"
      ]
     },
     "execution_count": 14,
     "metadata": {},
     "output_type": "execute_result"
    }
   ],
   "source": [
    "df['DrivAgeSq'] = df.DrivAge.apply(lambda x: x**2)\n",
    "df.head()"
   ]
  },
  {
   "cell_type": "code",
   "execution_count": 15,
   "metadata": {},
   "outputs": [],
   "source": [
    "df['ClaimsCount'] = df.ClaimInd + df.ClaimNbResp + df.ClaimNbNonResp + df.ClaimNbParking + df.ClaimNbFireTheft + df.ClaimNbWindscreen\n",
    "df.loc[df.ClaimAmount == 0, 'ClaimsCount'] = 0\n",
    "df.drop([\"ClaimNbResp\", \"ClaimNbNonResp\", \"ClaimNbParking\", \"ClaimNbFireTheft\", \"ClaimNbWindscreen\"], axis=1, inplace=True)"
   ]
  },
  {
   "cell_type": "code",
   "execution_count": 16,
   "metadata": {},
   "outputs": [],
   "source": [
    "count_claims = pd.DataFrame(df.ClaimsCount.value_counts()).rename({'ClaimsCount': 'count'}, axis=1)"
   ]
  },
  {
   "cell_type": "code",
   "execution_count": 17,
   "metadata": {},
   "outputs": [
    {
     "data": {
      "text/html": [
       "<div>\n",
       "<style scoped>\n",
       "    .dataframe tbody tr th:only-of-type {\n",
       "        vertical-align: middle;\n",
       "    }\n",
       "\n",
       "    .dataframe tbody tr th {\n",
       "        vertical-align: top;\n",
       "    }\n",
       "\n",
       "    .dataframe thead th {\n",
       "        text-align: right;\n",
       "    }\n",
       "</style>\n",
       "<table border=\"1\" class=\"dataframe\">\n",
       "  <thead>\n",
       "    <tr style=\"text-align: right;\">\n",
       "      <th></th>\n",
       "      <th>count</th>\n",
       "    </tr>\n",
       "  </thead>\n",
       "  <tbody>\n",
       "    <tr>\n",
       "      <th>0.0</th>\n",
       "      <td>104286</td>\n",
       "    </tr>\n",
       "    <tr>\n",
       "      <th>2.0</th>\n",
       "      <td>3529</td>\n",
       "    </tr>\n",
       "    <tr>\n",
       "      <th>1.0</th>\n",
       "      <td>3339</td>\n",
       "    </tr>\n",
       "    <tr>\n",
       "      <th>3.0</th>\n",
       "      <td>2310</td>\n",
       "    </tr>\n",
       "    <tr>\n",
       "      <th>4.0</th>\n",
       "      <td>1101</td>\n",
       "    </tr>\n",
       "    <tr>\n",
       "      <th>5.0</th>\n",
       "      <td>428</td>\n",
       "    </tr>\n",
       "    <tr>\n",
       "      <th>6.0</th>\n",
       "      <td>127</td>\n",
       "    </tr>\n",
       "    <tr>\n",
       "      <th>7.0</th>\n",
       "      <td>26</td>\n",
       "    </tr>\n",
       "    <tr>\n",
       "      <th>8.0</th>\n",
       "      <td>6</td>\n",
       "    </tr>\n",
       "    <tr>\n",
       "      <th>9.0</th>\n",
       "      <td>2</td>\n",
       "    </tr>\n",
       "    <tr>\n",
       "      <th>11.0</th>\n",
       "      <td>1</td>\n",
       "    </tr>\n",
       "  </tbody>\n",
       "</table>\n",
       "</div>"
      ],
      "text/plain": [
       "       count\n",
       "0.0   104286\n",
       "2.0     3529\n",
       "1.0     3339\n",
       "3.0     2310\n",
       "4.0     1101\n",
       "5.0      428\n",
       "6.0      127\n",
       "7.0       26\n",
       "8.0        6\n",
       "9.0        2\n",
       "11.0       1"
      ]
     },
     "execution_count": 17,
     "metadata": {},
     "output_type": "execute_result"
    }
   ],
   "source": [
    "count_claims"
   ]
  },
  {
   "cell_type": "code",
   "execution_count": 18,
   "metadata": {},
   "outputs": [
    {
     "name": "stdout",
     "output_type": "stream",
     "text": [
      "<class 'pandas.core.frame.DataFrame'>\n",
      "RangeIndex: 115155 entries, 0 to 115154\n",
      "Data columns (total 24 columns):\n",
      " #   Column                           Non-Null Count   Dtype  \n",
      "---  ------                           --------------   -----  \n",
      " 0   Exposure                         115155 non-null  float64\n",
      " 1   LicAge                           115155 non-null  int64  \n",
      " 2   Gender                           115155 non-null  int64  \n",
      " 3   MariStat                         115155 non-null  int64  \n",
      " 4   DrivAge                          115155 non-null  int64  \n",
      " 5   HasKmLimit                       115155 non-null  int64  \n",
      " 6   BonusMalus                       115155 non-null  int64  \n",
      " 7   ClaimAmount                      115155 non-null  float64\n",
      " 8   ClaimInd                         115155 non-null  int64  \n",
      " 9   OutUseNb                         115155 non-null  float64\n",
      " 10  RiskArea                         115155 non-null  float64\n",
      " 11  VehUsage_Private                 115155 non-null  uint8  \n",
      " 12  VehUsage_Private+trip to office  115155 non-null  uint8  \n",
      " 13  VehUsage_Professional            115155 non-null  uint8  \n",
      " 14  VehUsage_Professional run        115155 non-null  uint8  \n",
      " 15  SocioCateg_CSP1                  115155 non-null  uint8  \n",
      " 16  SocioCateg_CSP2                  115155 non-null  uint8  \n",
      " 17  SocioCateg_CSP3                  115155 non-null  uint8  \n",
      " 18  SocioCateg_CSP4                  115155 non-null  uint8  \n",
      " 19  SocioCateg_CSP5                  115155 non-null  uint8  \n",
      " 20  SocioCateg_CSP6                  115155 non-null  uint8  \n",
      " 21  SocioCateg_CSP7                  115155 non-null  uint8  \n",
      " 22  DrivAgeSq                        115155 non-null  int64  \n",
      " 23  ClaimsCount                      115155 non-null  float64\n",
      "dtypes: float64(5), int64(8), uint8(11)\n",
      "memory usage: 12.6 MB\n"
     ]
    }
   ],
   "source": [
    "df.info()"
   ]
  },
  {
   "cell_type": "markdown",
   "metadata": {},
   "source": [
    "XGBoost для многоклассовой классификации принимает на вход значения меток классов в виде [0, num_classes]. Заменим значение 11 на 10."
   ]
  },
  {
   "cell_type": "code",
   "execution_count": 19,
   "metadata": {},
   "outputs": [],
   "source": [
    "df.loc[df['ClaimsCount'] == 11, 'ClaimsCount'] = 10"
   ]
  },
  {
   "cell_type": "markdown",
   "metadata": {},
   "source": [
    "Посмотрим, сколько полисов соответствуют каждому из значений ClaimsCount, используя метод groupby. Для полученных значений также посчитаем нормированную частоту."
   ]
  },
  {
   "cell_type": "code",
   "execution_count": 20,
   "metadata": {},
   "outputs": [],
   "source": [
    "FreqCount = pd.DataFrame(df[{'Exposure', 'ClaimsCount'}].groupby('ClaimsCount').count()['Exposure'].values, \n",
    "                         columns=['Count'])\n",
    "FreqCount['Freq'] = FreqCount['Count'] / FreqCount['Count'].sum()\n",
    "# df[{'Exposure', 'ClaimsCount'}].groupby('ClaimsCount').count()['Exposure'].values"
   ]
  },
  {
   "cell_type": "code",
   "execution_count": 21,
   "metadata": {},
   "outputs": [
    {
     "data": {
      "image/png": "[encoded data removed]",
      "text/plain": [
       "<Figure size 432x288 with 1 Axes>"
      ]
     },
     "metadata": {
      "needs_background": "light"
     },
     "output_type": "display_data"
    }
   ],
   "source": [
    "FreqCount.Freq.plot(kind='bar')\n",
    "plt.ylabel('Frequency')\n",
    "plt.show()"
   ]
  },
  {
   "cell_type": "code",
   "execution_count": 22,
   "metadata": {},
   "outputs": [
    {
     "data": {
      "text/html": [
       "<div>\n",
       "<style scoped>\n",
       "    .dataframe tbody tr th:only-of-type {\n",
       "        vertical-align: middle;\n",
       "    }\n",
       "\n",
       "    .dataframe tbody tr th {\n",
       "        vertical-align: top;\n",
       "    }\n",
       "\n",
       "    .dataframe thead th {\n",
       "        text-align: right;\n",
       "    }\n",
       "</style>\n",
       "<table border=\"1\" class=\"dataframe\">\n",
       "  <thead>\n",
       "    <tr style=\"text-align: right;\">\n",
       "      <th></th>\n",
       "      <th>Count</th>\n",
       "      <th>Freq</th>\n",
       "    </tr>\n",
       "  </thead>\n",
       "  <tbody>\n",
       "    <tr>\n",
       "      <th>0</th>\n",
       "      <td>104286</td>\n",
       "      <td>0.905614</td>\n",
       "    </tr>\n",
       "    <tr>\n",
       "      <th>1</th>\n",
       "      <td>3339</td>\n",
       "      <td>0.028996</td>\n",
       "    </tr>\n",
       "    <tr>\n",
       "      <th>2</th>\n",
       "      <td>3529</td>\n",
       "      <td>0.030646</td>\n",
       "    </tr>\n",
       "    <tr>\n",
       "      <th>3</th>\n",
       "      <td>2310</td>\n",
       "      <td>0.020060</td>\n",
       "    </tr>\n",
       "    <tr>\n",
       "      <th>4</th>\n",
       "      <td>1101</td>\n",
       "      <td>0.009561</td>\n",
       "    </tr>\n",
       "    <tr>\n",
       "      <th>5</th>\n",
       "      <td>428</td>\n",
       "      <td>0.003717</td>\n",
       "    </tr>\n",
       "    <tr>\n",
       "      <th>6</th>\n",
       "      <td>127</td>\n",
       "      <td>0.001103</td>\n",
       "    </tr>\n",
       "    <tr>\n",
       "      <th>7</th>\n",
       "      <td>26</td>\n",
       "      <td>0.000226</td>\n",
       "    </tr>\n",
       "    <tr>\n",
       "      <th>8</th>\n",
       "      <td>6</td>\n",
       "      <td>0.000052</td>\n",
       "    </tr>\n",
       "    <tr>\n",
       "      <th>9</th>\n",
       "      <td>2</td>\n",
       "      <td>0.000017</td>\n",
       "    </tr>\n",
       "    <tr>\n",
       "      <th>10</th>\n",
       "      <td>1</td>\n",
       "      <td>0.000009</td>\n",
       "    </tr>\n",
       "  </tbody>\n",
       "</table>\n",
       "</div>"
      ],
      "text/plain": [
       "     Count      Freq\n",
       "0   104286  0.905614\n",
       "1     3339  0.028996\n",
       "2     3529  0.030646\n",
       "3     2310  0.020060\n",
       "4     1101  0.009561\n",
       "5      428  0.003717\n",
       "6      127  0.001103\n",
       "7       26  0.000226\n",
       "8        6  0.000052\n",
       "9        2  0.000017\n",
       "10       1  0.000009"
      ]
     },
     "execution_count": 22,
     "metadata": {},
     "output_type": "execute_result"
    }
   ],
   "source": [
    "FreqCount"
   ]
  },
  {
   "cell_type": "markdown",
   "metadata": {},
   "source": [
    "Заметим, что в данном случае присутствует проблема несбалансированности классов. Поэтому, для того, чтобы по возможности избежать ее, воспользуемся взвешиванием наблюдений для обучения модели. Для этого в исходном наборе данных создадим столбец weight. Присвоим ему некоторые значения, например, можно задать 0.05 для значений ClaimsCount 0, а для остальных - 1 (Для этого можем использовать функцию np.where). Также можно попробовать какой-либо другой способ задания весов, приведенный пример не гарантирует хороших результатов."
   ]
  },
  {
   "cell_type": "code",
   "execution_count": 23,
   "metadata": {},
   "outputs": [],
   "source": [
    "df['weight'] = 0"
   ]
  },
  {
   "cell_type": "code",
   "execution_count": 24,
   "metadata": {},
   "outputs": [],
   "source": [
    "weg = FreqCount['Count'] / FreqCount['Count'].sum()"
   ]
  },
  {
   "cell_type": "code",
   "execution_count": 27,
   "metadata": {},
   "outputs": [],
   "source": [
    "for param in weg.index:\n",
    "     df.loc[df['ClaimsCount'] == param, 'weight'] = 1 - weg[param]"
   ]
  },
  {
   "cell_type": "markdown",
   "metadata": {},
   "source": [
    "Разобьем имеющийся набор данных на обучающую, валидационную и тестовую выборки в отношениях 70%/15%/15% соответственно. Зададим зерно для случайного разбиения равным 10."
   ]
  },
  {
   "cell_type": "code",
   "execution_count": 28,
   "metadata": {},
   "outputs": [],
   "source": [
    "TARGET_NAME = 'ClaimsCount'\n",
    "BASE_FEATURE_NAMES = df.columns.drop(TARGET_NAME).tolist()\n",
    "x_train, x_test, y_train, y_test = train_test_split(df[BASE_FEATURE_NAMES], df[TARGET_NAME], test_size=0.3, random_state=10)\n",
    "x_valid, x_test, y_valid, y_test = train_test_split(x_test, y_test, test_size=0.5, random_state=10)"
   ]
  },
  {
   "cell_type": "code",
   "execution_count": 29,
   "metadata": {},
   "outputs": [
    {
     "data": {
      "text/plain": [
       "array([0.09438583, 0.09438583, 0.09438583, ..., 0.09438583, 0.09438583,\n",
       "       0.09438583])"
      ]
     },
     "execution_count": 29,
     "metadata": {},
     "output_type": "execute_result"
    }
   ],
   "source": [
    "x_train['weight'].values"
   ]
  },
  {
   "cell_type": "markdown",
   "metadata": {},
   "source": [
    "Далее, создадим объекты DMatrix для обучающей, валидационной и тестовой выборок. Для обучающей выборки также укажем параметр weight равным полученному ранее столбцу весов. Данный столбец также нужно исключить из объекта передаваемого в параметр data."
   ]
  },
  {
   "cell_type": "code",
   "execution_count": 35,
   "metadata": {},
   "outputs": [],
   "source": [
    "xgb_train = xgb.DMatrix(x_train.drop(['Exposure'], axis=1), label=y_train.values)\n",
    "xgb_valid = xgb.DMatrix(x_valid.drop(['Exposure'], axis=1),  label=y_valid.values)\n",
    "test_xgb_testc = xgb.DMatrix(x_test.drop(['Exposure'], axis=1), label=y_test.values)"
   ]
  },
  {
   "cell_type": "markdown",
   "metadata": {},
   "source": [
    "Далее обучим нашу модель. Подбор параметров пока не делал, хотелось сначало получить хоть что-то."
   ]
  },
  {
   "cell_type": "code",
   "execution_count": 36,
   "metadata": {},
   "outputs": [
    {
     "name": "stdout",
     "output_type": "stream",
     "text": [
      "[0]\ttrain-merror:0.00032\ttrain-mlogloss:2.19856\tvalid-merror:0.00035\tvalid-mlogloss:2.19944\n",
      "Multiple eval metrics have been passed: 'valid-mlogloss' will be used for early stopping.\n",
      "\n",
      "Will train until valid-mlogloss hasn't improved in 50 rounds.\n",
      "[10]\ttrain-merror:0.00007\ttrain-mlogloss:1.23299\tvalid-merror:0.00012\tvalid-mlogloss:1.23360\n",
      "[20]\ttrain-merror:0.00007\ttrain-mlogloss:0.80047\tvalid-merror:0.00012\tvalid-mlogloss:0.80034\n",
      "[30]\ttrain-merror:0.00007\ttrain-mlogloss:0.53803\tvalid-merror:0.00012\tvalid-mlogloss:0.53822\n",
      "[40]\ttrain-merror:0.00007\ttrain-mlogloss:0.36899\tvalid-merror:0.00012\tvalid-mlogloss:0.36947\n",
      "[50]\ttrain-merror:0.00007\ttrain-mlogloss:0.25539\tvalid-merror:0.00012\tvalid-mlogloss:0.25582\n",
      "[60]\ttrain-merror:0.00007\ttrain-mlogloss:0.17778\tvalid-merror:0.00012\tvalid-mlogloss:0.17811\n",
      "[70]\ttrain-merror:0.00007\ttrain-mlogloss:0.12397\tvalid-merror:0.00012\tvalid-mlogloss:0.12425\n",
      "[80]\ttrain-merror:0.00007\ttrain-mlogloss:0.08712\tvalid-merror:0.00012\tvalid-mlogloss:0.08739\n",
      "[90]\ttrain-merror:0.00007\ttrain-mlogloss:0.06123\tvalid-merror:0.00012\tvalid-mlogloss:0.06150\n",
      "[100]\ttrain-merror:0.00007\ttrain-mlogloss:0.04317\tvalid-merror:0.00012\tvalid-mlogloss:0.04343\n",
      "[110]\ttrain-merror:0.00007\ttrain-mlogloss:0.03062\tvalid-merror:0.00012\tvalid-mlogloss:0.03087\n",
      "[120]\ttrain-merror:0.00007\ttrain-mlogloss:0.02186\tvalid-merror:0.00012\tvalid-mlogloss:0.02210\n",
      "[130]\ttrain-merror:0.00007\ttrain-mlogloss:0.01558\tvalid-merror:0.00012\tvalid-mlogloss:0.01583\n",
      "[140]\ttrain-merror:0.00007\ttrain-mlogloss:0.01110\tvalid-merror:0.00012\tvalid-mlogloss:0.01136\n",
      "[150]\ttrain-merror:0.00007\ttrain-mlogloss:0.00799\tvalid-merror:0.00012\tvalid-mlogloss:0.00825\n",
      "[160]\ttrain-merror:0.00007\ttrain-mlogloss:0.00584\tvalid-merror:0.00012\tvalid-mlogloss:0.00611\n",
      "[170]\ttrain-merror:0.00007\ttrain-mlogloss:0.00425\tvalid-merror:0.00012\tvalid-mlogloss:0.00453\n",
      "[180]\ttrain-merror:0.00007\ttrain-mlogloss:0.00314\tvalid-merror:0.00012\tvalid-mlogloss:0.00343\n",
      "[190]\ttrain-merror:0.00007\ttrain-mlogloss:0.00236\tvalid-merror:0.00012\tvalid-mlogloss:0.00266\n",
      "[200]\ttrain-merror:0.00007\ttrain-mlogloss:0.00180\tvalid-merror:0.00012\tvalid-mlogloss:0.00211\n",
      "[210]\ttrain-merror:0.00007\ttrain-mlogloss:0.00140\tvalid-merror:0.00012\tvalid-mlogloss:0.00172\n",
      "[220]\ttrain-merror:0.00007\ttrain-mlogloss:0.00111\tvalid-merror:0.00012\tvalid-mlogloss:0.00144\n",
      "[230]\ttrain-merror:0.00007\ttrain-mlogloss:0.00090\tvalid-merror:0.00012\tvalid-mlogloss:0.00124\n",
      "[240]\ttrain-merror:0.00007\ttrain-mlogloss:0.00077\tvalid-merror:0.00012\tvalid-mlogloss:0.00112\n",
      "[250]\ttrain-merror:0.00006\ttrain-mlogloss:0.00067\tvalid-merror:0.00012\tvalid-mlogloss:0.00104\n",
      "[260]\ttrain-merror:0.00005\ttrain-mlogloss:0.00061\tvalid-merror:0.00012\tvalid-mlogloss:0.00098\n",
      "[270]\ttrain-merror:0.00005\ttrain-mlogloss:0.00056\tvalid-merror:0.00012\tvalid-mlogloss:0.00095\n",
      "[280]\ttrain-merror:0.00005\ttrain-mlogloss:0.00053\tvalid-merror:0.00012\tvalid-mlogloss:0.00093\n",
      "[290]\ttrain-merror:0.00005\ttrain-mlogloss:0.00051\tvalid-merror:0.00012\tvalid-mlogloss:0.00091\n",
      "[299]\ttrain-merror:0.00005\ttrain-mlogloss:0.00049\tvalid-merror:0.00012\tvalid-mlogloss:0.00090\n"
     ]
    }
   ],
   "source": [
    "xgb_params = dict()\n",
    "xgb_params['eta'] = 0.0365253500815\n",
    "xgb_params['max_depth'] = 5\n",
    "xgb_params['subsample'] = 0.789639281187\n",
    "xgb_params['min_child_weight'] = 3\n",
    "\n",
    "xgb_params['gamma'] = 0.271712091643\n",
    "\n",
    "xgb_params['colsample_bytree'] = 0.774391443402\n",
    "xgb_params['colsample_bylevel'] = 0.79407015729\n",
    "xgb_params['objective'] = 'multi:softmax'\n",
    "xgb_params['eval_metric'] = [ 'merror', 'mlogloss']\n",
    "xgb_params['num_class'] = 11\n",
    "\n",
    "watchlist = [(xgb_train, 'train'), (xgb_valid, 'valid')]\n",
    "\n",
    "model = xgb.train( params=xgb_params,\n",
    "                      dtrain=xgb_train,\n",
    "                      num_boost_round=300,\n",
    "                      evals=watchlist,\n",
    "                      verbose_eval=10,\n",
    "                      early_stopping_rounds=50)"
   ]
  },
  {
   "cell_type": "markdown",
   "metadata": {},
   "source": [
    "Посчитаем метрики accuracy и f1 на наших наборах данных, также можем визуализировать confusion matrix, например, с помощью plt.imshow(). Можно использовать предложенный ниже код."
   ]
  },
  {
   "cell_type": "code",
   "execution_count": 32,
   "metadata": {},
   "outputs": [],
   "source": [
    "xgb_freq = model"
   ]
  },
  {
   "cell_type": "code",
   "execution_count": 38,
   "metadata": {},
   "outputs": [
    {
     "data": {
      "text/plain": [
       "array([0., 0., 0., ..., 0., 0., 0.], dtype=float32)"
      ]
     },
     "execution_count": 38,
     "metadata": {},
     "output_type": "execute_result"
    }
   ],
   "source": [
    "train_pred = model.predict(xgb_train)\n",
    "train_pred"
   ]
  },
  {
   "cell_type": "code",
   "execution_count": 39,
   "metadata": {},
   "outputs": [
    {
     "name": "stdout",
     "output_type": "stream",
     "text": [
      "F1 Score on train: 0.0\n",
      "F1 Score on valid: 0.0\n",
      "F1 Score on test: 0.0\n"
     ]
    }
   ],
   "source": [
    "dfsets = [{'set': 'train', 'dmat': xgb_train, 'target': y_train},\n",
    "          {'set': 'valid', 'dmat': xgb_valid, 'target': y_valid},\n",
    "          {'set': 'test', 'dmat': test_xgb_testc, 'target': y_test}]\n",
    "for dfset in dfsets:\n",
    "    class_preds = model.predict(dfset['dmat']) - 1\n",
    "    print('F1 Score on ' + str(dfset['set'])+':', f1_score(dfset['target'], class_preds, average='micro')) # Посчитаем F1 Score"
   ]
  },
  {
   "cell_type": "code",
   "execution_count": 41,
   "metadata": {},
   "outputs": [
    {
     "name": "stdout",
     "output_type": "stream",
     "text": [
      "[0. 0. 0. ... 0. 0. 0.]\n",
      "[0. 0. 0. ... 0. 0. 0.]\n",
      "[0. 0. 0. ... 0. 0. 0.]\n",
      "[0. 0. 0. ... 0. 0. 0.]\n",
      "[0. 2. 0. ... 0. 0. 0.]\n",
      "[0. 2. 0. ... 0. 0. 0.]\n"
     ]
    },
    {
     "data": {
      "image/png": "[encoded data removed]",
      "text/plain": [
       "<Figure size 1080x216 with 6 Axes>"
      ]
     },
     "metadata": {
      "needs_background": "light"
     },
     "output_type": "display_data"
    }
   ],
   "source": [
    "plt.subplots(1,3, figsize=(15,3))\n",
    "for i in range(len(dfsets)):\n",
    "    pred = np.round(model.predict(dfsets[i]['dmat']), 0)\n",
    "    print(pred)\n",
    "    print(dfsets[i]['target'].values)\n",
    "    confmatrix = confusion_matrix(dfsets[i]['target'], pred)\n",
    "    plt.subplot(1,3,i+1)\n",
    "    plt.imshow(confmatrix, cmap='Greys')\n",
    "    plt.colorbar()\n",
    "    plt.ylabel('True')\n",
    "    plt.xlabel('Predicted')\n",
    "plt.show()"
   ]
  },
  {
   "cell_type": "markdown",
   "metadata": {},
   "source": [
    "Как вы оцениваете качество построенной модели? Какие проблемы могут здесь присутствовать? Как можно улучшить результат?"
   ]
  },
  {
   "cell_type": "markdown",
   "metadata": {},
   "source": [
    "Получилась лажа. Работаю по 12 часов. Времени на подробный разбор параметров обучения модели нет. Как буду свободнее обязательно добъю это задание до конца."
   ]
  },
  {
   "cell_type": "code",
   "execution_count": null,
   "metadata": {},
   "outputs": [],
   "source": []
  }
 ],
 "metadata": {
  "kernelspec": {
   "display_name": "Python 3",
   "language": "python",
   "name": "python3"
  },
  "language_info": {
   "codemirror_mode": {
    "name": "ipython",
    "version": 3
   },
   "file_extension": ".py",
   "mimetype": "text/x-python",
   "name": "python",
   "nbconvert_exporter": "python",
   "pygments_lexer": "ipython3",
   "version": "3.7.6"
  }
 },
 "nbformat": 4,
 "nbformat_minor": 4
}
